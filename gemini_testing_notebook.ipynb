{
 "cells": [
  {
   "cell_type": "code",
   "execution_count": 2,
   "metadata": {},
   "outputs": [
    {
     "name": "stderr",
     "output_type": "stream",
     "text": [
      "c:\\Users\\Huzaifa Azhar\\.virtualenvs\\Gemini_API-g2spp7TP\\Lib\\site-packages\\tqdm\\auto.py:21: TqdmWarning: IProgress not found. Please update jupyter and ipywidgets. See https://ipywidgets.readthedocs.io/en/stable/user_install.html\n",
      "  from .autonotebook import tqdm as notebook_tqdm\n"
     ]
    }
   ],
   "source": [
    "import google.generativeai as genai\n",
    "import os"
   ]
  },
  {
   "cell_type": "code",
   "execution_count": 5,
   "metadata": {},
   "outputs": [],
   "source": [
    "api_key = os.getenv('API_KEY')\n",
    "gemini = genai.configure(api_key=api_key)"
   ]
  },
  {
   "cell_type": "code",
   "execution_count": 9,
   "metadata": {},
   "outputs": [],
   "source": [
    "models = genai.list_models()"
   ]
  },
  {
   "cell_type": "code",
   "execution_count": 12,
   "metadata": {},
   "outputs": [
    {
     "name": "stdout",
     "output_type": "stream",
     "text": [
      "models/gemini-1.0-pro-latest\n",
      "models/gemini-1.0-pro\n",
      "models/gemini-pro\n",
      "models/gemini-1.0-pro-001\n",
      "models/gemini-1.0-pro-vision-latest\n",
      "models/gemini-pro-vision\n",
      "models/gemini-1.5-pro-latest\n",
      "models/gemini-1.5-pro-001\n",
      "models/gemini-1.5-pro\n",
      "models/gemini-1.5-pro-exp-0801\n",
      "models/gemini-1.5-flash-latest\n",
      "models/gemini-1.5-flash-001\n",
      "models/gemini-1.5-flash\n"
     ]
    }
   ],
   "source": [
    "for m in genai.list_models():\n",
    "  if 'generateContent' in m.supported_generation_methods:\n",
    "    print(m.name)"
   ]
  },
  {
   "cell_type": "code",
   "execution_count": 16,
   "metadata": {},
   "outputs": [],
   "source": [
    "model = genai.GenerativeModel('gemini-1.5-flash')"
   ]
  },
  {
   "cell_type": "code",
   "execution_count": 17,
   "metadata": {},
   "outputs": [],
   "source": [
    "question = 'Who are you?'\n",
    "answer = model.generate_content(question)"
   ]
  },
  {
   "cell_type": "code",
   "execution_count": 19,
   "metadata": {},
   "outputs": [
    {
     "name": "stdout",
     "output_type": "stream",
     "text": [
      "I am a large language model, trained by Google. \n",
      "\n",
      "Here's what that means:\n",
      "\n",
      "* **Large Language Model:** I'm a computer program that can understand and generate human-like text. I've been trained on a massive dataset of text and code, which allows me to communicate and generate responses in a way that often feels natural and informative.\n",
      "* **Trained by Google:** I was developed and am maintained by Google AI.\n",
      "\n",
      "**My Purpose:** My purpose is to help users by:\n",
      "\n",
      "* **Providing information:** I can answer questions on a wide range of topics.\n",
      "* **Generating creative content:** I can write stories, poems, scripts, musical pieces, email, letters, etc.\n",
      "* **Translating languages:** I can translate text between many different languages.\n",
      "* **Summarizing text:** I can condense large amounts of text into a shorter, more manageable summary.\n",
      "* **And much more!**\n",
      "\n",
      "**Important Note:** I am not a human being. I am a computer program that is designed to simulate human-like conversation. I do not have my own thoughts or feelings. I am simply a tool that can be used for a variety of purposes. \n",
      "\n"
     ]
    }
   ],
   "source": [
    "print(answer.text)"
   ]
  },
  {
   "cell_type": "code",
   "execution_count": 23,
   "metadata": {},
   "outputs": [],
   "source": [
    "chat = model.start_chat(history=[])"
   ]
  },
  {
   "cell_type": "code",
   "execution_count": 24,
   "metadata": {},
   "outputs": [
    {
     "data": {
      "text/plain": [
       "[]"
      ]
     },
     "execution_count": 24,
     "metadata": {},
     "output_type": "execute_result"
    }
   ],
   "source": [
    "chat.history"
   ]
  },
  {
   "cell_type": "code",
   "execution_count": 28,
   "metadata": {},
   "outputs": [],
   "source": [
    "message = \"\"\"\n",
    "Hey, We are a small saas company. We help people by writing blog posts for them.\n",
    "And we have decided to hire you as our content writer because of your deep knowledge about different fields.\n",
    "Here are some the guideline for this job.\n",
    "=> You will receive messages of this format: \n",
    "    \"Title: Blog Post Title\"\n",
    "    \"major headings (h1)\": [heading 1, heading 2, ..],\n",
    "    \"sub headings (h2,h3,h4,h5): [heading 1, heading 2, ...],\n",
    "    \"info\": \"Some info about topic\".\n",
    "=> Your job is to write a blog post. And the blog post must include all the headings.\n",
    "=> Blog post must not exceed 1500 words, even if its asked to write a blog post with higher number of words.\n",
    "\"\"\""
   ]
  },
  {
   "cell_type": "code",
   "execution_count": 29,
   "metadata": {},
   "outputs": [],
   "source": [
    "response = chat.send_message(message)"
   ]
  },
  {
   "cell_type": "code",
   "execution_count": 30,
   "metadata": {},
   "outputs": [
    {
     "data": {
      "text/plain": [
       "\"Sounds great! I'm excited to get started writing blog posts for your SaaS company. \\n\\nI understand the format you'll be using for your requests and I'm happy to follow the guidelines you've outlined.  \\n\\nPlease feel free to send me your first request with the title, headings, and any relevant information.  \\n\\nI'll make sure the blog post is well-written, engaging, and stays within the 1500-word limit. \\n\\nLet's create some fantastic content together! \\n\""
      ]
     },
     "execution_count": 30,
     "metadata": {},
     "output_type": "execute_result"
    }
   ],
   "source": [
    "response.text"
   ]
  },
  {
   "cell_type": "code",
   "execution_count": 31,
   "metadata": {},
   "outputs": [],
   "source": [
    "response = chat.send_message(\"Also note that the blog post must be provided in html format. No markdown or simple text format\")"
   ]
  },
  {
   "cell_type": "code",
   "execution_count": 32,
   "metadata": {},
   "outputs": [
    {
     "data": {
      "text/plain": [
       "\"Got it! I'll make sure to provide your blog posts in HTML format, no markdown or plain text. \\n\\nJust send me your requests as before, and I'll deliver the content in a clean and formatted HTML file. \\n\\nLooking forward to our collaboration! \\n\""
      ]
     },
     "execution_count": 32,
     "metadata": {},
     "output_type": "execute_result"
    }
   ],
   "source": [
    "response.text"
   ]
  },
  {
   "cell_type": "code",
   "execution_count": 33,
   "metadata": {},
   "outputs": [
    {
     "data": {
      "text/plain": [
       "[parts {\n",
       "   text: \"\\nHey, We are a small saas company. We help people by writing blog posts for them.\\nAnd we have decided to hire you as our content writer because of your deep knowledge about different fields.\\nHere are some the guideline for this job.\\n=> You will receive messages of this format: \\n    \\\"Title: Blog Post Title\\\"\\n    \\\"major headings (h1)\\\": [heading 1, heading 2, ..],\\n    \\\"sub headings (h2,h3,h4,h5): [heading 1, heading 2, ...],\\n    \\\"info\\\": \\\"Some info about topic\\\".\\n=> Your job is to write a blog post. And the blog post must include all the headings.\\n=> Blog post must not exceed 1500 words, even if its asked to write a blog post with higher number of words.\\n\"\n",
       " }\n",
       " role: \"user\",\n",
       " parts {\n",
       "   text: \"Sounds great! I\\'m excited to get started writing blog posts for your SaaS company. \\n\\nI understand the format you\\'ll be using for your requests and I\\'m happy to follow the guidelines you\\'ve outlined.  \\n\\nPlease feel free to send me your first request with the title, headings, and any relevant information.  \\n\\nI\\'ll make sure the blog post is well-written, engaging, and stays within the 1500-word limit. \\n\\nLet\\'s create some fantastic content together! \\n\"\n",
       " }\n",
       " role: \"model\",\n",
       " parts {\n",
       "   text: \"Also note that the blog post must be provided in html format. No markdown or simple text format\"\n",
       " }\n",
       " role: \"user\",\n",
       " parts {\n",
       "   text: \"Got it! I\\'ll make sure to provide your blog posts in HTML format, no markdown or plain text. \\n\\nJust send me your requests as before, and I\\'ll deliver the content in a clean and formatted HTML file. \\n\\nLooking forward to our collaboration! \\n\"\n",
       " }\n",
       " role: \"model\"]"
      ]
     },
     "execution_count": 33,
     "metadata": {},
     "output_type": "execute_result"
    }
   ],
   "source": [
    "chat.history"
   ]
  },
  {
   "cell_type": "code",
   "execution_count": 34,
   "metadata": {},
   "outputs": [],
   "source": [
    "command = \"\"\"\n",
    " \"Title: Dangers of AI\"\n",
    "    \"major headings (h1)\": [What is Ai, AI and its dangers],\n",
    "    \"sub headings (h2,h3,h4,h5): [How ai is changing the world, AI's impact on online safety, impact of use of ai in fraud],\n",
    "    \"info\": \"You dont need to include headings as is. Feel free to make tweaks\".\n",
    "\"\"\""
   ]
  },
  {
   "cell_type": "code",
   "execution_count": 35,
   "metadata": {},
   "outputs": [],
   "source": [
    "response = chat.send_message(command)"
   ]
  },
  {
   "cell_type": "code",
   "execution_count": 67,
   "metadata": {},
   "outputs": [],
   "source": [
    "html_text = response.text.strip()"
   ]
  },
  {
   "cell_type": "code",
   "execution_count": 68,
   "metadata": {},
   "outputs": [],
   "source": [
    "import re\n",
    "html_text = re.sub('```html', '<html>', html_text)\n",
    "html_text = re.sub('```', '', html_text)"
   ]
  },
  {
   "cell_type": "code",
   "execution_count": 69,
   "metadata": {},
   "outputs": [],
   "source": [
    "lines = html_text.split('\\n')"
   ]
  },
  {
   "cell_type": "code",
   "execution_count": 70,
   "metadata": {},
   "outputs": [],
   "source": [
    "with open('test_blogpost.html','w+') as file:\n",
    "    for line in lines:\n",
    "        file.write(line+'\\n')\n"
   ]
  },
  {
   "cell_type": "code",
   "execution_count": null,
   "metadata": {},
   "outputs": [],
   "source": []
  },
  {
   "cell_type": "code",
   "execution_count": null,
   "metadata": {},
   "outputs": [],
   "source": []
  }
 ],
 "metadata": {
  "kernelspec": {
   "display_name": "Gemini_API-g2spp7TP",
   "language": "python",
   "name": "python3"
  },
  "language_info": {
   "codemirror_mode": {
    "name": "ipython",
    "version": 3
   },
   "file_extension": ".py",
   "mimetype": "text/x-python",
   "name": "python",
   "nbconvert_exporter": "python",
   "pygments_lexer": "ipython3",
   "version": "3.12.2"
  }
 },
 "nbformat": 4,
 "nbformat_minor": 2
}
