{
 "cells": [
  {
   "cell_type": "code",
   "execution_count": 9,
   "metadata": {},
   "outputs": [],
   "source": [
    "import google.generativeai as genai\n",
    "import os"
   ]
  },
  {
   "cell_type": "code",
   "execution_count": 3,
   "metadata": {},
   "outputs": [],
   "source": [
    "api_key = os.getenv('API_KEY')\n",
    "gemini = genai.configure(api_key=api_key)"
   ]
  },
  {
   "cell_type": "code",
   "execution_count": 9,
   "metadata": {},
   "outputs": [],
   "source": [
    "models = genai.list_models()"
   ]
  },
  {
   "cell_type": "code",
   "execution_count": 12,
   "metadata": {},
   "outputs": [
    {
     "name": "stdout",
     "output_type": "stream",
     "text": [
      "models/gemini-1.0-pro-latest\n",
      "models/gemini-1.0-pro\n",
      "models/gemini-pro\n",
      "models/gemini-1.0-pro-001\n",
      "models/gemini-1.0-pro-vision-latest\n",
      "models/gemini-pro-vision\n",
      "models/gemini-1.5-pro-latest\n",
      "models/gemini-1.5-pro-001\n",
      "models/gemini-1.5-pro\n",
      "models/gemini-1.5-pro-exp-0801\n",
      "models/gemini-1.5-flash-latest\n",
      "models/gemini-1.5-flash-001\n",
      "models/gemini-1.5-flash\n"
     ]
    }
   ],
   "source": [
    "for m in genai.list_models():\n",
    "  if 'generateContent' in m.supported_generation_methods:\n",
    "    print(m.name)"
   ]
  },
  {
   "cell_type": "code",
   "execution_count": 4,
   "metadata": {},
   "outputs": [],
   "source": [
    "model = genai.GenerativeModel('gemini-1.5-flash')"
   ]
  },
  {
   "cell_type": "code",
   "execution_count": 17,
   "metadata": {},
   "outputs": [],
   "source": [
    "question = 'Who are you?'\n",
    "answer = model.generate_content(question)"
   ]
  },
  {
   "cell_type": "code",
   "execution_count": 19,
   "metadata": {},
   "outputs": [
    {
     "name": "stdout",
     "output_type": "stream",
     "text": [
      "I am a large language model, trained by Google. \n",
      "\n",
      "Here's what that means:\n",
      "\n",
      "* **Large Language Model:** I'm a computer program that can understand and generate human-like text. I've been trained on a massive dataset of text and code, which allows me to communicate and generate responses in a way that often feels natural and informative.\n",
      "* **Trained by Google:** I was developed and am maintained by Google AI.\n",
      "\n",
      "**My Purpose:** My purpose is to help users by:\n",
      "\n",
      "* **Providing information:** I can answer questions on a wide range of topics.\n",
      "* **Generating creative content:** I can write stories, poems, scripts, musical pieces, email, letters, etc.\n",
      "* **Translating languages:** I can translate text between many different languages.\n",
      "* **Summarizing text:** I can condense large amounts of text into a shorter, more manageable summary.\n",
      "* **And much more!**\n",
      "\n",
      "**Important Note:** I am not a human being. I am a computer program that is designed to simulate human-like conversation. I do not have my own thoughts or feelings. I am simply a tool that can be used for a variety of purposes. \n",
      "\n"
     ]
    }
   ],
   "source": [
    "print(answer.text)"
   ]
  },
  {
   "cell_type": "code",
   "execution_count": 23,
   "metadata": {},
   "outputs": [],
   "source": [
    "chat = model.start_chat(history=[])"
   ]
  },
  {
   "cell_type": "code",
   "execution_count": 24,
   "metadata": {},
   "outputs": [
    {
     "data": {
      "text/plain": [
       "[]"
      ]
     },
     "execution_count": 24,
     "metadata": {},
     "output_type": "execute_result"
    }
   ],
   "source": [
    "chat.history"
   ]
  },
  {
   "cell_type": "code",
   "execution_count": 28,
   "metadata": {},
   "outputs": [],
   "source": [
    "message = \"\"\"\n",
    "Hey, We are a small saas company. We help people by writing blog posts for them.\n",
    "And we have decided to hire you as our content writer because of your deep knowledge about different fields.\n",
    "Here are some the guideline for this job.\n",
    "=> You will receive messages of this format: \n",
    "    \"Title: Blog Post Title\"\n",
    "    \"major headings (h1)\": [heading 1, heading 2, ..],\n",
    "    \"sub headings (h2,h3,h4,h5): [heading 1, heading 2, ...],\n",
    "    \"info\": \"Some info about topic\".\n",
    "=> Your job is to write a blog post. And the blog post must include all the headings.\n",
    "=> Blog post must not exceed 1500 words, even if its asked to write a blog post with higher number of words.\n",
    "\"\"\""
   ]
  },
  {
   "cell_type": "code",
   "execution_count": 29,
   "metadata": {},
   "outputs": [],
   "source": [
    "response = chat.send_message(message)"
   ]
  },
  {
   "cell_type": "code",
   "execution_count": 30,
   "metadata": {},
   "outputs": [
    {
     "data": {
      "text/plain": [
       "\"Sounds great! I'm excited to get started writing blog posts for your SaaS company. \\n\\nI understand the format you'll be using for your requests and I'm happy to follow the guidelines you've outlined.  \\n\\nPlease feel free to send me your first request with the title, headings, and any relevant information.  \\n\\nI'll make sure the blog post is well-written, engaging, and stays within the 1500-word limit. \\n\\nLet's create some fantastic content together! \\n\""
      ]
     },
     "execution_count": 30,
     "metadata": {},
     "output_type": "execute_result"
    }
   ],
   "source": [
    "response.text"
   ]
  },
  {
   "cell_type": "code",
   "execution_count": 31,
   "metadata": {},
   "outputs": [],
   "source": [
    "response = chat.send_message(\"Also note that the blog post must be provided in html format. No markdown or simple text format\")"
   ]
  },
  {
   "cell_type": "code",
   "execution_count": 32,
   "metadata": {},
   "outputs": [
    {
     "data": {
      "text/plain": [
       "\"Got it! I'll make sure to provide your blog posts in HTML format, no markdown or plain text. \\n\\nJust send me your requests as before, and I'll deliver the content in a clean and formatted HTML file. \\n\\nLooking forward to our collaboration! \\n\""
      ]
     },
     "execution_count": 32,
     "metadata": {},
     "output_type": "execute_result"
    }
   ],
   "source": [
    "response.text"
   ]
  },
  {
   "cell_type": "code",
   "execution_count": 33,
   "metadata": {},
   "outputs": [
    {
     "data": {
      "text/plain": [
       "[parts {\n",
       "   text: \"\\nHey, We are a small saas company. We help people by writing blog posts for them.\\nAnd we have decided to hire you as our content writer because of your deep knowledge about different fields.\\nHere are some the guideline for this job.\\n=> You will receive messages of this format: \\n    \\\"Title: Blog Post Title\\\"\\n    \\\"major headings (h1)\\\": [heading 1, heading 2, ..],\\n    \\\"sub headings (h2,h3,h4,h5): [heading 1, heading 2, ...],\\n    \\\"info\\\": \\\"Some info about topic\\\".\\n=> Your job is to write a blog post. And the blog post must include all the headings.\\n=> Blog post must not exceed 1500 words, even if its asked to write a blog post with higher number of words.\\n\"\n",
       " }\n",
       " role: \"user\",\n",
       " parts {\n",
       "   text: \"Sounds great! I\\'m excited to get started writing blog posts for your SaaS company. \\n\\nI understand the format you\\'ll be using for your requests and I\\'m happy to follow the guidelines you\\'ve outlined.  \\n\\nPlease feel free to send me your first request with the title, headings, and any relevant information.  \\n\\nI\\'ll make sure the blog post is well-written, engaging, and stays within the 1500-word limit. \\n\\nLet\\'s create some fantastic content together! \\n\"\n",
       " }\n",
       " role: \"model\",\n",
       " parts {\n",
       "   text: \"Also note that the blog post must be provided in html format. No markdown or simple text format\"\n",
       " }\n",
       " role: \"user\",\n",
       " parts {\n",
       "   text: \"Got it! I\\'ll make sure to provide your blog posts in HTML format, no markdown or plain text. \\n\\nJust send me your requests as before, and I\\'ll deliver the content in a clean and formatted HTML file. \\n\\nLooking forward to our collaboration! \\n\"\n",
       " }\n",
       " role: \"model\"]"
      ]
     },
     "execution_count": 33,
     "metadata": {},
     "output_type": "execute_result"
    }
   ],
   "source": [
    "chat.history"
   ]
  },
  {
   "cell_type": "code",
   "execution_count": 34,
   "metadata": {},
   "outputs": [],
   "source": [
    "command = \"\"\"\n",
    " \"Title: Dangers of AI\"\n",
    "    \"major headings (h1)\": [What is Ai, AI and its dangers],\n",
    "    \"sub headings (h2,h3,h4,h5): [How ai is changing the world, AI's impact on online safety, impact of use of ai in fraud],\n",
    "    \"info\": \"You dont need to include headings as is. Feel free to make tweaks\".\n",
    "\"\"\""
   ]
  },
  {
   "cell_type": "code",
   "execution_count": 35,
   "metadata": {},
   "outputs": [],
   "source": [
    "response = chat.send_message(command)"
   ]
  },
  {
   "cell_type": "code",
   "execution_count": 67,
   "metadata": {},
   "outputs": [],
   "source": [
    "html_text = response.text.strip()"
   ]
  },
  {
   "cell_type": "code",
   "execution_count": 68,
   "metadata": {},
   "outputs": [],
   "source": [
    "import re\n",
    "html_text = re.sub('```html', '<html>', html_text)\n",
    "html_text = re.sub('```', '', html_text)"
   ]
  },
  {
   "cell_type": "code",
   "execution_count": 69,
   "metadata": {},
   "outputs": [],
   "source": [
    "lines = html_text.split('\\n')"
   ]
  },
  {
   "cell_type": "code",
   "execution_count": 70,
   "metadata": {},
   "outputs": [],
   "source": [
    "with open('test_blogpost.html','w+') as file:\n",
    "    for line in lines:\n",
    "        file.write(line+'\\n')\n"
   ]
  },
  {
   "cell_type": "code",
   "execution_count": 5,
   "metadata": {},
   "outputs": [],
   "source": [
    "command2 = \"\"\"\n",
    " \"Title: Top 5 richest people in the world and the secrets of their success\"\n",
    "    \"major headings (h1)\": Top 5 richest people, their wealth and their success,\n",
    "    \"sub headings (h2,h3,h4,h5): Elon Musk, Jeff Bezos, Bernard Arnault, Bill Gates, Mark Zuckerberg,\n",
    "    \"info\": \"Write a paragraph on each person. Write about their early life, their struggle. Feel free to include some quotes from them.\".\n",
    "\"\"\""
   ]
  },
  {
   "cell_type": "code",
   "execution_count": 44,
   "metadata": {},
   "outputs": [],
   "source": [
    "chat = model.start_chat(history=[\n",
    "    {\n",
    "        'parts':{\n",
    "            'We are a small saas company. We help people by writing blog posts for them.',\n",
    "        },\n",
    "        'role':'user'\n",
    "    },\n",
    "    {\n",
    "        'parts':{\n",
    "           'Also note that the blog post must be provided in HTML format only!!!!!. No markdown or simple text format is accept',\n",
    "        },\n",
    "        'role':'user'\n",
    "    },\n",
    "])"
   ]
  },
  {
   "cell_type": "code",
   "execution_count": 45,
   "metadata": {},
   "outputs": [
    {
     "data": {
      "text/plain": [
       "[parts {\n",
       "   text: \"We are a small saas company. We help people by writing blog posts for them.\"\n",
       " }\n",
       " role: \"user\",\n",
       " parts {\n",
       "   text: \"Also note that the blog post must be provided in HTML format only!!!!!. No markdown or simple text format is accept\"\n",
       " }\n",
       " role: \"user\"]"
      ]
     },
     "execution_count": 45,
     "metadata": {},
     "output_type": "execute_result"
    }
   ],
   "source": [
    "chat.history"
   ]
  },
  {
   "cell_type": "code",
   "execution_count": 46,
   "metadata": {},
   "outputs": [],
   "source": [
    "response = chat.send_message(command2)\n"
   ]
  },
  {
   "cell_type": "code",
   "execution_count": 47,
   "metadata": {},
   "outputs": [
    {
     "data": {
      "text/plain": [
       "'<!DOCTYPE html>\\n<html>\\n<head>\\n  <title>Top 5 Richest People in the World and the Secrets of Their Success</title>\\n</head>\\n<body>\\n\\n<h1>Top 5 Richest People, Their Wealth and Their Success</h1>\\n\\n<h2>Elon Musk</h2>\\n\\n<h3>Early Life and Struggles</h3>\\n<p>Born in Pretoria, South Africa, Elon Musk faced challenges early on. He was bullied in school and struggled with dyslexia. However, he exhibited a passion for technology and entrepreneurship from a young age, selling his first software program at age 12. Despite his early successes, Musk faced numerous setbacks, including the failure of his first two companies, Zip2 and PayPal. But, he persevered and learned from his mistakes, eventually achieving phenomenal success.</p>\\n\\n<h3>Quotes</h3>\\n<p>\"If something is important enough, even if the odds are against you, you should still do it.\"</p>\\n\\n<h2>Jeff Bezos</h2>\\n\\n<h3>Early Life and Struggles</h3>\\n<p>Born in Albuquerque, New Mexico, Jeff Bezos had a humble upbringing. His family moved frequently, and he attended a diverse range of schools. While working as a financial analyst, Bezos recognized the potential of the internet and took a leap of faith, founding Amazon in 1994. Amazon\\'s initial years were fraught with challenges, as the company struggled to establish itself in a nascent e-commerce market.</p>\\n\\n<h3>Quotes</h3>\\n<p>\"Your biggest competitor is not the other guy, it’s your own inertia.\"</p>\\n\\n<h2>Bernard Arnault</h2>\\n\\n<h3>Early Life and Struggles</h3>\\n<p>Bernard Arnault, a French businessman, inherited his father\\'s construction company. However, he chose to pursue a career in luxury goods. He acquired Christian Dior in 1984 and later built the LVMH empire, encompassing prestigious brands like Louis Vuitton, Moët & Chandon, and Hennessy. Arnault faced significant challenges in building his luxury empire, navigating complex markets and fierce competition.</p>\\n\\n<h3>Quotes</h3>\\n<p>\"Luxury is a necessity that starts where necessity ends.\"</p>\\n\\n<h2>Bill Gates</h2>\\n\\n<h3>Early Life and Struggles</h3>\\n<p>Bill Gates, born in Seattle, Washington, exhibited a passion for technology from a young age. He dropped out of Harvard University to pursue his dream of starting a software company. Microsoft, founded with Paul Allen, faced early challenges in establishing itself in a rapidly evolving industry. However, Gates\\'s visionary leadership and relentless pursuit of innovation propelled Microsoft to global success.</p>\\n\\n<h3>Quotes</h3>\\n<p>\"Success is a lousy teacher. It seduces smart people into thinking they can’t lose.\"</p>\\n\\n<h2>Mark Zuckerberg</h2>\\n\\n<h3>Early Life and Struggles</h3>\\n<p>Mark Zuckerberg, born in White Plains, New York, developed a passion for programming at a young age. He created Facebook in his Harvard dorm room, which quickly gained popularity among students. Zuckerberg faced challenges in growing Facebook, managing rapid user growth and navigating legal and privacy issues. But, he persevered, building Facebook into one of the world\\'s most influential social media platforms.</p>\\n\\n<h3>Quotes</h3>\\n<p>\"The biggest risk is not taking any risk... In a world that is changing really quickly, the only strategy that is guaranteed to fail is not taking any risks.\"</p>\\n</body>\\n</html>'"
      ]
     },
     "execution_count": 47,
     "metadata": {},
     "output_type": "execute_result"
    }
   ],
   "source": [
    "response.text"
   ]
  },
  {
   "cell_type": "code",
   "execution_count": 48,
   "metadata": {},
   "outputs": [
    {
     "data": {
      "text/plain": [
       "[parts {\n",
       "   text: \"We are a small saas company. We help people by writing blog posts for them.\"\n",
       " }\n",
       " role: \"user\",\n",
       " parts {\n",
       "   text: \"Also note that the blog post must be provided in HTML format only!!!!!. No markdown or simple text format is accept\"\n",
       " }\n",
       " role: \"user\",\n",
       " parts {\n",
       "   text: \"\\n \\\"Title: Top 5 richest people in the world and the secrets of their success\\\"\\n    \\\"major headings (h1)\\\": Top 5 richest people, their wealth and their success,\\n    \\\"sub headings (h2,h3,h4,h5): Elon Musk, Jeff Bezos, Bernard Arnault, Bill Gates, Mark Zuckerberg,\\n    \\\"info\\\": \\\"Write a paragraph on each person. Write about their early life, their struggle. Feel free to include some quotes from them.\\\".\\n\"\n",
       " }\n",
       " role: \"user\",\n",
       " parts {\n",
       "   text: \"<!DOCTYPE html>\\n<html>\\n<head>\\n  <title>Top 5 Richest People in the World and the Secrets of Their Success</title>\\n</head>\\n<body>\\n\\n<h1>Top 5 Richest People, Their Wealth and Their Success</h1>\\n\\n<h2>Elon Musk</h2>\\n\\n<h3>Early Life and Struggles</h3>\\n<p>Born in Pretoria, South Africa, Elon Musk faced challenges early on. He was bullied in school and struggled with dyslexia. However, he exhibited a passion for technology and entrepreneurship from a young age, selling his first software program at age 12. Despite his early successes, Musk faced numerous setbacks, including the failure of his first two companies, Zip2 and PayPal. But, he persevered and learned from his mistakes, eventually achieving phenomenal success.</p>\\n\\n<h3>Quotes</h3>\\n<p>\\\"If something is important enough, even if the odds are against you, you should still do it.\\\"</p>\\n\\n<h2>Jeff Bezos</h2>\\n\\n<h3>Early Life and Struggles</h3>\\n<p>Born in Albuquerque, New Mexico, Jeff Bezos had a humble upbringing. His family moved frequently, and he attended a diverse range of schools. While working as a financial analyst, Bezos recognized the potential of the internet and took a leap of faith, founding Amazon in 1994. Amazon\\'s initial years were fraught with challenges, as the company struggled to establish itself in a nascent e-commerce market.</p>\\n\\n<h3>Quotes</h3>\\n<p>\\\"Your biggest competitor is not the other guy, it’s your own inertia.\\\"</p>\\n\\n<h2>Bernard Arnault</h2>\\n\\n<h3>Early Life and Struggles</h3>\\n<p>Bernard Arnault, a French businessman, inherited his father\\'s construction company. However, he chose to pursue a career in luxury goods. He acquired Christian Dior in 1984 and later built the LVMH empire, encompassing prestigious brands like Louis Vuitton, Moët & Chandon, and Hennessy. Arnault faced significant challenges in building his luxury empire, navigating complex markets and fierce competition.</p>\\n\\n<h3>Quotes</h3>\\n<p>\\\"Luxury is a necessity that starts where necessity ends.\\\"</p>\\n\\n<h2>Bill Gates</h2>\\n\\n<h3>Early Life and Struggles</h3>\\n<p>Bill Gates, born in Seattle, Washington, exhibited a passion for technology from a young age. He dropped out of Harvard University to pursue his dream of starting a software company. Microsoft, founded with Paul Allen, faced early challenges in establishing itself in a rapidly evolving industry. However, Gates\\'s visionary leadership and relentless pursuit of innovation propelled Microsoft to global success.</p>\\n\\n<h3>Quotes</h3>\\n<p>\\\"Success is a lousy teacher. It seduces smart people into thinking they can’t lose.\\\"</p>\\n\\n<h2>Mark Zuckerberg</h2>\\n\\n<h3>Early Life and Struggles</h3>\\n<p>Mark Zuckerberg, born in White Plains, New York, developed a passion for programming at a young age. He created Facebook in his Harvard dorm room, which quickly gained popularity among students. Zuckerberg faced challenges in growing Facebook, managing rapid user growth and navigating legal and privacy issues. But, he persevered, building Facebook into one of the world\\'s most influential social media platforms.</p>\\n\\n<h3>Quotes</h3>\\n<p>\\\"The biggest risk is not taking any risk... In a world that is changing really quickly, the only strategy that is guaranteed to fail is not taking any risks.\\\"</p>\\n</body>\\n</html>\"\n",
       " }\n",
       " role: \"model\"]"
      ]
     },
     "execution_count": 48,
     "metadata": {},
     "output_type": "execute_result"
    }
   ],
   "source": [
    "chat.history"
   ]
  },
  {
   "cell_type": "code",
   "execution_count": 49,
   "metadata": {},
   "outputs": [],
   "source": [
    "write_to_html = response.text.strip()"
   ]
  },
  {
   "cell_type": "code",
   "execution_count": 50,
   "metadata": {},
   "outputs": [],
   "source": [
    "with open('test_blogpost2.html','w+') as file:\n",
    "    lines = write_to_html.split('\\n')\n",
    "    for line in lines:\n",
    "        file.write(line+'\\n')"
   ]
  },
  {
   "cell_type": "code",
   "execution_count": null,
   "metadata": {},
   "outputs": [],
   "source": []
  }
 ],
 "metadata": {
  "kernelspec": {
   "display_name": "Gemini_API-g2spp7TP",
   "language": "python",
   "name": "python3"
  },
  "language_info": {
   "codemirror_mode": {
    "name": "ipython",
    "version": 3
   },
   "file_extension": ".py",
   "mimetype": "text/x-python",
   "name": "python",
   "nbconvert_exporter": "python",
   "pygments_lexer": "ipython3",
   "version": "3.12.2"
  }
 },
 "nbformat": 4,
 "nbformat_minor": 2
}
